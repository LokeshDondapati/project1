{
 "cells": [
  {
   "cell_type": "markdown",
   "id": "0654b984",
   "metadata": {},
   "source": [
    "# Project 1 (M6): Exploratory Data Analysis Using Matplotlib & Seaborn\n"
   ]
  },
  {
   "cell_type": "markdown",
   "id": "489faaf5",
   "metadata": {},
   "source": [
    "# Part 1: Introduction\n",
    "\n",
    "In this project, we will explore a dataset that is related to and focuses on \"HIV/AIDS Diagnoses by Neighborhood, Age Group, and Race/Ethnicity.\" Dataset comprises data related to HIV/AIDS daignoses per population, age, neighborhood. These race/ethnicity attribute includes Black, Asian/pacific islander, white etc. The dataset contains information on demographics, such as age, and location, as well as variables indicating per popluation, daignoses. The dataset's temporal aspect allows tracking engagement trends over time, making it an ideal subject for analysis.\n",
    "\n",
    "## Research Question:\n",
    "1.How do age, neighborhood, and race/ethnicity interact in influencing HIV/AIDS diagnoses?\n",
    "\n",
    "\n",
    "\n"
   ]
  },
  {
   "cell_type": "markdown",
   "id": "20e7acc9",
   "metadata": {},
   "source": [
    "# Part 2: Data Summary\n",
    "\n",
    "Data Source: \n",
    "\n",
    "The data for this analysis was acquired from the New York City Open Data website. The dataset is titled 'HIV/AIDS Diagnoses by Neighborhood, Age Group, and Race/Ethnicity' and is publicly available at the following link https://data.cityofnewyork.us/Health/HIV-AIDS-Diagnoses-by-Neighborhood-Age-Group-and-R/dxnu-p2qd. This dataset provides information about HIV/AIDS daignoses in different borough, for different race/ethnicity and provides information for different age groups.\n",
    "\n",
    "Number of Use Cases: To determine the number of use cases (rows) in the dataset, i used Python's Pandas library.\n",
    "\n",
    "Number of Attributes: Calculated the number of attributes (columns) in  dataset using the shape attribute of a Pandas DataFrame.\n",
    "\n",
    "Data Types of Attributes: To display the data types of each attribute in dataset, below is the code."
   ]
  },
  {
   "cell_type": "code",
   "execution_count": 3,
   "id": "7a6fe4b6",
   "metadata": {},
   "outputs": [
    {
     "name": "stdout",
     "output_type": "stream",
     "text": [
      "Use Cases: 21036\n",
      "Attributes: 11\n",
      "Data Types for Attribute: YEAR                                                                    int64\n",
      "NEIGHBORHOOD                                                           object\n",
      "RACE/ETHNICITY                                                         object\n",
      "AGE                                                                    object\n",
      "TOTAL NUMBER OF HIV DIAGNOSES                                          object\n",
      "HIV DIAGNOSES PER 100,000 POPULATION                                   object\n",
      "TOTAL NUMBER OF CONCURRENT HIV/AIDS DIAGNOSES                          object\n",
      "PROPORTION OF CONCURRENT HIV/AIDS DIAGNOSES AMONG ALL HIV DIAGNOSES    object\n",
      "TOTAL NUMBER OF AIDS DIAGNOSES                                         object\n",
      "AIDS DIAGNOSES PER 100,000 POPULATION                                  object\n",
      "Borough                                                                object\n",
      "dtype: object\n",
      "{'Use Cases': 21036, 'Attributes': 11, 'Data Types for Attribute': YEAR                                                                    int64\n",
      "NEIGHBORHOOD                                                           object\n",
      "RACE/ETHNICITY                                                         object\n",
      "AGE                                                                    object\n",
      "TOTAL NUMBER OF HIV DIAGNOSES                                          object\n",
      "HIV DIAGNOSES PER 100,000 POPULATION                                   object\n",
      "TOTAL NUMBER OF CONCURRENT HIV/AIDS DIAGNOSES                          object\n",
      "PROPORTION OF CONCURRENT HIV/AIDS DIAGNOSES AMONG ALL HIV DIAGNOSES    object\n",
      "TOTAL NUMBER OF AIDS DIAGNOSES                                         object\n",
      "AIDS DIAGNOSES PER 100,000 POPULATION                                  object\n",
      "Borough                                                                object\n",
      "dtype: object}\n"
     ]
    }
   ],
   "source": [
    "from datasummary import Datasummary\n",
    "url = 'https://raw.githubusercontent.com/LokeshDondapati/project1/main/HIV_AIDS_Diagnoses_by_Neighborhood__Age_Group__and_Race_Ethnicity.csv'\n",
    "\n",
    "v=Datasummary(url).datasummary()\n",
    "print(v)\n"
   ]
  },
  {
   "cell_type": "code",
   "execution_count": null,
   "id": "90f76cf7",
   "metadata": {},
   "outputs": [],
   "source": []
  }
 ],
 "metadata": {
  "kernelspec": {
   "display_name": "Python 3 (ipykernel)",
   "language": "python",
   "name": "python3"
  },
  "language_info": {
   "codemirror_mode": {
    "name": "ipython",
    "version": 3
   },
   "file_extension": ".py",
   "mimetype": "text/x-python",
   "name": "python",
   "nbconvert_exporter": "python",
   "pygments_lexer": "ipython3",
   "version": "3.11.4"
  }
 },
 "nbformat": 4,
 "nbformat_minor": 5
}
